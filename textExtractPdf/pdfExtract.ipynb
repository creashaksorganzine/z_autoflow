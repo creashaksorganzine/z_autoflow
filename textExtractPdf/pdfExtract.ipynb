{
 "cells": [
  {
   "cell_type": "code",
   "execution_count": null,
   "metadata": {},
   "outputs": [],
   "source": [
    "# %pip install pypdf2\n",
    "# %pip install beautifulsoup4\n",
    "# %pip install navigablestring\n",
    "# %pip install spacy\n",
    "# %pip install spacy && python -m spacy download en_core_web_sm\n",
    "# %pip install pytesseract\n",
    "# %pip install Pillow\n",
    "# %pip install pdf2image\n",
    "# %pip uninstall pdfminer\n",
    "# %pip install pdfminer.six\n",
    "# %pip install pyenchant\n",
    "# %pip install textblob"
   ]
  },
  {
   "cell_type": "code",
   "execution_count": null,
   "metadata": {},
   "outputs": [],
   "source": [
    "# from textblob import TextBlob\n",
    "# import PyPDF2\n",
    "# import re\n",
    "\n",
    "# # Open the PDF file\n",
    "# pdf_file = open('Soviet-Deception-Cuban-Missile.pdf', 'rb')\n",
    "\n",
    "# # Create a PDF reader object\n",
    "# pdf_reader = PyPDF2.PdfReader(pdf_file)\n",
    "\n",
    "# # Loop through each page and extract the text\n",
    "# text = ''\n",
    "# for page in range(len(pdf_reader.pages)):\n",
    "#     text += pdf_reader.pages[page].extract_text()\n",
    "\n",
    "# # Replace runs of whitespace characters with single spaces\n",
    "# text = re.sub(r'\\s+', ' ', text)\n",
    "\n",
    "# # Create a TextBlob object\n",
    "# blob = TextBlob(text)\n",
    "\n",
    "# # Correct spelling errors\n",
    "# corrected_text = str(blob.correct())\n",
    "\n",
    "# # Close the PDF file\n",
    "# pdf_file.close()\n",
    "\n",
    "# # Open the HTML file for appending\n",
    "# with open('index.html', 'a', encoding='utf-8') as f:\n",
    "#     # Append the extracted text to the HTML file\n",
    "#     f.write(f'<div><p>{corrected_text}</p></div>')\n"
   ]
  },
  {
   "cell_type": "code",
   "execution_count": 6,
   "metadata": {},
   "outputs": [],
   "source": [
    "from textblob import TextBlob\n",
    "import PyPDF2\n",
    "import re\n",
    "import os\n",
    "\n",
    "def extract_text_from_pdf(pdf_path):\n",
    "    with open(pdf_path, 'rb') as pdf_file:\n",
    "        pdf_reader = PyPDF2.PdfReader(pdf_file)\n",
    "        text = ''.join(page.extract_text() for page in pdf_reader.pages)\n",
    "        return re.sub(r'\\s+', ' ', text)\n",
    "\n",
    "def correct_spelling_errors(text):\n",
    "    blob = TextBlob(text)\n",
    "    return str(blob.correct())\n",
    "\n",
    "def append_text_to_html_file(html_path, corrected_text):\n",
    "    with open(html_path, 'a', encoding='utf-8') as f:\n",
    "        f.write(f'<div><p>{corrected_text}</p></div>')\n",
    "\n",
    "def main():\n",
    "    pdf_path = 'Soviet-Deception-Cuban-Missile.pdf'\n",
    "    html_path = 'index.html'\n",
    "\n",
    "    text = extract_text_from_pdf(pdf_path)\n",
    "    corrected_text = correct_spelling_errors(text)\n",
    "    append_text_to_html_file(html_path, corrected_text)\n",
    "\n",
    "if __name__ == '__main__':\n",
    "    main()\n"
   ]
  }
 ],
 "metadata": {
  "kernelspec": {
   "display_name": "Python 3",
   "language": "python",
   "name": "python3"
  },
  "language_info": {
   "codemirror_mode": {
    "name": "ipython",
    "version": 3
   },
   "file_extension": ".py",
   "mimetype": "text/x-python",
   "name": "python",
   "nbconvert_exporter": "python",
   "pygments_lexer": "ipython3",
   "version": "3.10.10"
  },
  "orig_nbformat": 4
 },
 "nbformat": 4,
 "nbformat_minor": 2
}
